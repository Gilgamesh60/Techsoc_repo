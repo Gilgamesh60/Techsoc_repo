{
  "nbformat": 4,
  "nbformat_minor": 0,
  "metadata": {
    "colab": {
      "provenance": [],
      "mount_file_id": "1Ri1mdrgBKYfmQ6D7xEA4nm_6FzSKo_Ra",
      "authorship_tag": "ABX9TyMx+kAHZU+3B9VnKO1+HpTO",
      "include_colab_link": true
    },
    "kernelspec": {
      "name": "python3",
      "display_name": "Python 3"
    },
    "language_info": {
      "name": "python"
    }
  },
  "cells": [
    {
      "cell_type": "markdown",
      "metadata": {
        "id": "view-in-github",
        "colab_type": "text"
      },
      "source": [
        "<a href=\"https://colab.research.google.com/github/Gilgamesh60/Techsoc_repo/blob/main/PS3.ipynb\" target=\"_parent\"><img src=\"https://colab.research.google.com/assets/colab-badge.svg\" alt=\"Open In Colab\"/></a>"
      ]
    },
    {
      "cell_type": "code",
      "execution_count": 2,
      "metadata": {
        "colab": {
          "base_uri": "https://localhost:8080/",
          "height": 537
        },
        "id": "R_UrO9_MT9iW",
        "outputId": "9bb12dee-2dcc-4617-d88e-7e5da2d2dda6"
      },
      "outputs": [
        {
          "output_type": "execute_result",
          "data": {
            "text/plain": [
              "                                                 content  \\\n",
              "0      Premium quality five pocket jean from Wrangler...   \n",
              "1      If you're looking for a different kind of anim...   \n",
              "2      First things first: Yes, Thinking XXX features...   \n",
              "3      Feathertouch. 100% Polyester Machine Wash Warm...   \n",
              "4      When you need outstanding fuel delivery, easy ...   \n",
              "...                                                  ...   \n",
              "35107  SArah Walker, Anthony Rolfe Johnson, Jean Rigb...   \n",
              "35108  Buy Teenage Mutant Ninja Turtles 4: Turtles in...   \n",
              "35109  A 10 movie collection of women action flicks. ...   \n",
              "35110  This huarache sandal is designed for all-day c...   \n",
              "35111  The Wrangler Cowboy Cut jean is a Western Wear...   \n",
              "\n",
              "                                                   title         uid  \\\n",
              "0      Amazon.com: Wrangler Men's Rugged Wear Relaxed...  B0000CBALT   \n",
              "1      Sakura Diaries - Complete Series Collector's E...  B00005QFDT   \n",
              "2                     Thinking XXX (Extended Cut) (2006)  B000BNXD50   \n",
              "3      Amazon.com: Petite Feathertouch Pull-On Pant: ...  B0002LK9V2   \n",
              "4                                ACDelco EP386 Fuel Pump  B000C9PA54   \n",
              "...                                                  ...         ...   \n",
              "35107                          Britten - Gloriana (1984)  B000I2IUM0   \n",
              "35108   Teenage Mutant Ninja Turtles IV: Turtles in Time  B000035Y3N   \n",
              "35109           Women Who Kick Butt 10 Movie Pack (2001)  B00005B7BW   \n",
              "35110              Softspots Women's Tela Leather Sandal  B0002KIFAK   \n",
              "35111  Amazon.com: Wrangler Men's Big &amp; Tall Cowb...  B000FA2832   \n",
              "\n",
              "       target_ind  \n",
              "0             247  \n",
              "1             453  \n",
              "2             228  \n",
              "3             223  \n",
              "4             312  \n",
              "...           ...  \n",
              "35107         473  \n",
              "35108          74  \n",
              "35109         460  \n",
              "35110         158  \n",
              "35111         340  \n",
              "\n",
              "[35112 rows x 4 columns]"
            ],
            "text/html": [
              "\n",
              "  <div id=\"df-cc7f51cb-c318-4e04-959c-16c94cc88eda\">\n",
              "    <div class=\"colab-df-container\">\n",
              "      <div>\n",
              "<style scoped>\n",
              "    .dataframe tbody tr th:only-of-type {\n",
              "        vertical-align: middle;\n",
              "    }\n",
              "\n",
              "    .dataframe tbody tr th {\n",
              "        vertical-align: top;\n",
              "    }\n",
              "\n",
              "    .dataframe thead th {\n",
              "        text-align: right;\n",
              "    }\n",
              "</style>\n",
              "<table border=\"1\" class=\"dataframe\">\n",
              "  <thead>\n",
              "    <tr style=\"text-align: right;\">\n",
              "      <th></th>\n",
              "      <th>content</th>\n",
              "      <th>title</th>\n",
              "      <th>uid</th>\n",
              "      <th>target_ind</th>\n",
              "    </tr>\n",
              "  </thead>\n",
              "  <tbody>\n",
              "    <tr>\n",
              "      <th>0</th>\n",
              "      <td>Premium quality five pocket jean from Wrangler...</td>\n",
              "      <td>Amazon.com: Wrangler Men's Rugged Wear Relaxed...</td>\n",
              "      <td>B0000CBALT</td>\n",
              "      <td>247</td>\n",
              "    </tr>\n",
              "    <tr>\n",
              "      <th>1</th>\n",
              "      <td>If you're looking for a different kind of anim...</td>\n",
              "      <td>Sakura Diaries - Complete Series Collector's E...</td>\n",
              "      <td>B00005QFDT</td>\n",
              "      <td>453</td>\n",
              "    </tr>\n",
              "    <tr>\n",
              "      <th>2</th>\n",
              "      <td>First things first: Yes, Thinking XXX features...</td>\n",
              "      <td>Thinking XXX (Extended Cut) (2006)</td>\n",
              "      <td>B000BNXD50</td>\n",
              "      <td>228</td>\n",
              "    </tr>\n",
              "    <tr>\n",
              "      <th>3</th>\n",
              "      <td>Feathertouch. 100% Polyester Machine Wash Warm...</td>\n",
              "      <td>Amazon.com: Petite Feathertouch Pull-On Pant: ...</td>\n",
              "      <td>B0002LK9V2</td>\n",
              "      <td>223</td>\n",
              "    </tr>\n",
              "    <tr>\n",
              "      <th>4</th>\n",
              "      <td>When you need outstanding fuel delivery, easy ...</td>\n",
              "      <td>ACDelco EP386 Fuel Pump</td>\n",
              "      <td>B000C9PA54</td>\n",
              "      <td>312</td>\n",
              "    </tr>\n",
              "    <tr>\n",
              "      <th>...</th>\n",
              "      <td>...</td>\n",
              "      <td>...</td>\n",
              "      <td>...</td>\n",
              "      <td>...</td>\n",
              "    </tr>\n",
              "    <tr>\n",
              "      <th>35107</th>\n",
              "      <td>SArah Walker, Anthony Rolfe Johnson, Jean Rigb...</td>\n",
              "      <td>Britten - Gloriana (1984)</td>\n",
              "      <td>B000I2IUM0</td>\n",
              "      <td>473</td>\n",
              "    </tr>\n",
              "    <tr>\n",
              "      <th>35108</th>\n",
              "      <td>Buy Teenage Mutant Ninja Turtles 4: Turtles in...</td>\n",
              "      <td>Teenage Mutant Ninja Turtles IV: Turtles in Time</td>\n",
              "      <td>B000035Y3N</td>\n",
              "      <td>74</td>\n",
              "    </tr>\n",
              "    <tr>\n",
              "      <th>35109</th>\n",
              "      <td>A 10 movie collection of women action flicks. ...</td>\n",
              "      <td>Women Who Kick Butt 10 Movie Pack (2001)</td>\n",
              "      <td>B00005B7BW</td>\n",
              "      <td>460</td>\n",
              "    </tr>\n",
              "    <tr>\n",
              "      <th>35110</th>\n",
              "      <td>This huarache sandal is designed for all-day c...</td>\n",
              "      <td>Softspots Women's Tela Leather Sandal</td>\n",
              "      <td>B0002KIFAK</td>\n",
              "      <td>158</td>\n",
              "    </tr>\n",
              "    <tr>\n",
              "      <th>35111</th>\n",
              "      <td>The Wrangler Cowboy Cut jean is a Western Wear...</td>\n",
              "      <td>Amazon.com: Wrangler Men's Big &amp;amp; Tall Cowb...</td>\n",
              "      <td>B000FA2832</td>\n",
              "      <td>340</td>\n",
              "    </tr>\n",
              "  </tbody>\n",
              "</table>\n",
              "<p>35112 rows × 4 columns</p>\n",
              "</div>\n",
              "      <button class=\"colab-df-convert\" onclick=\"convertToInteractive('df-cc7f51cb-c318-4e04-959c-16c94cc88eda')\"\n",
              "              title=\"Convert this dataframe to an interactive table.\"\n",
              "              style=\"display:none;\">\n",
              "        \n",
              "  <svg xmlns=\"http://www.w3.org/2000/svg\" height=\"24px\"viewBox=\"0 0 24 24\"\n",
              "       width=\"24px\">\n",
              "    <path d=\"M0 0h24v24H0V0z\" fill=\"none\"/>\n",
              "    <path d=\"M18.56 5.44l.94 2.06.94-2.06 2.06-.94-2.06-.94-.94-2.06-.94 2.06-2.06.94zm-11 1L8.5 8.5l.94-2.06 2.06-.94-2.06-.94L8.5 2.5l-.94 2.06-2.06.94zm10 10l.94 2.06.94-2.06 2.06-.94-2.06-.94-.94-2.06-.94 2.06-2.06.94z\"/><path d=\"M17.41 7.96l-1.37-1.37c-.4-.4-.92-.59-1.43-.59-.52 0-1.04.2-1.43.59L10.3 9.45l-7.72 7.72c-.78.78-.78 2.05 0 2.83L4 21.41c.39.39.9.59 1.41.59.51 0 1.02-.2 1.41-.59l7.78-7.78 2.81-2.81c.8-.78.8-2.07 0-2.86zM5.41 20L4 18.59l7.72-7.72 1.47 1.35L5.41 20z\"/>\n",
              "  </svg>\n",
              "      </button>\n",
              "      \n",
              "  <style>\n",
              "    .colab-df-container {\n",
              "      display:flex;\n",
              "      flex-wrap:wrap;\n",
              "      gap: 12px;\n",
              "    }\n",
              "\n",
              "    .colab-df-convert {\n",
              "      background-color: #E8F0FE;\n",
              "      border: none;\n",
              "      border-radius: 50%;\n",
              "      cursor: pointer;\n",
              "      display: none;\n",
              "      fill: #1967D2;\n",
              "      height: 32px;\n",
              "      padding: 0 0 0 0;\n",
              "      width: 32px;\n",
              "    }\n",
              "\n",
              "    .colab-df-convert:hover {\n",
              "      background-color: #E2EBFA;\n",
              "      box-shadow: 0px 1px 2px rgba(60, 64, 67, 0.3), 0px 1px 3px 1px rgba(60, 64, 67, 0.15);\n",
              "      fill: #174EA6;\n",
              "    }\n",
              "\n",
              "    [theme=dark] .colab-df-convert {\n",
              "      background-color: #3B4455;\n",
              "      fill: #D2E3FC;\n",
              "    }\n",
              "\n",
              "    [theme=dark] .colab-df-convert:hover {\n",
              "      background-color: #434B5C;\n",
              "      box-shadow: 0px 1px 3px 1px rgba(0, 0, 0, 0.15);\n",
              "      filter: drop-shadow(0px 1px 2px rgba(0, 0, 0, 0.3));\n",
              "      fill: #FFFFFF;\n",
              "    }\n",
              "  </style>\n",
              "\n",
              "      <script>\n",
              "        const buttonEl =\n",
              "          document.querySelector('#df-cc7f51cb-c318-4e04-959c-16c94cc88eda button.colab-df-convert');\n",
              "        buttonEl.style.display =\n",
              "          google.colab.kernel.accessAllowed ? 'block' : 'none';\n",
              "\n",
              "        async function convertToInteractive(key) {\n",
              "          const element = document.querySelector('#df-cc7f51cb-c318-4e04-959c-16c94cc88eda');\n",
              "          const dataTable =\n",
              "            await google.colab.kernel.invokeFunction('convertToInteractive',\n",
              "                                                     [key], {});\n",
              "          if (!dataTable) return;\n",
              "\n",
              "          const docLinkHtml = 'Like what you see? Visit the ' +\n",
              "            '<a target=\"_blank\" href=https://colab.research.google.com/notebooks/data_table.ipynb>data table notebook</a>'\n",
              "            + ' to learn more about interactive tables.';\n",
              "          element.innerHTML = '';\n",
              "          dataTable['output_type'] = 'display_data';\n",
              "          await google.colab.output.renderOutput(dataTable, element);\n",
              "          const docLink = document.createElement('div');\n",
              "          docLink.innerHTML = docLinkHtml;\n",
              "          element.appendChild(docLink);\n",
              "        }\n",
              "      </script>\n",
              "    </div>\n",
              "  </div>\n",
              "  "
            ]
          },
          "metadata": {},
          "execution_count": 2
        }
      ],
      "source": [
        "import pandas as pd\n",
        "df=pd.read_csv(\"/content/drive/MyDrive/PS_3/PS3_train.csv\")\n",
        "df"
      ]
    },
    {
      "cell_type": "markdown",
      "source": [
        "# Preprocessing"
      ],
      "metadata": {
        "id": "lGeqReJlhvgX"
      }
    },
    {
      "cell_type": "code",
      "source": [
        "import pandas as pd\n",
        "import string\n",
        "import re\n",
        "import nltk\n",
        "from nltk.corpus import stopwords\n",
        "nltk.download('stopwords')\n",
        "\n",
        "from collections import Counter\n",
        "from nltk.stem.porter import PorterStemmer\n",
        "from nltk import pos_tag\n",
        "from nltk.corpus import wordnet\n",
        "from nltk.stem import WordNetLemmatizer\n",
        "from sklearn import preprocessing\n",
        "nltk.download('wordnet')\n",
        "nltk.download('omw-1.4')\n",
        "ps = PorterStemmer()\n",
        "wordnet_map = {\"N\":wordnet.NOUN, \"V\": wordnet.VERB, \"J\": wordnet.ADJ, \"R\": wordnet.ADV}\n",
        "def lower_text(df,text):\n",
        "    df[text] = df[text].str.lower()\n",
        "    return df\n",
        "\n",
        "def remove_punctuations(text):\n",
        "    res = re.sub(r'[^\\w\\s]', '', text)\n",
        "    return res\n",
        "\n",
        "def remove_stopwords(text):\n",
        "    return \" \".join([word for word in text.split() if word not in stopwords.words('english')])\n",
        "\n",
        "\n",
        "def find_freq_words(df,text):\n",
        "    word_count = Counter()\n",
        "    for text in df[text]:\n",
        "        for word in text.split():\n",
        "            word_count[word] += 1\n",
        "\n",
        "    FREQUENT_WORDS = set(word for (word, wc) in word_count.most_common(3))\n",
        "    return FREQUENT_WORDS\n",
        "\n",
        "def remove_freq_words(text,FREQUENT_WORDS):\n",
        "    return \" \".join([word for word in text.split() if word not in FREQUENT_WORDS])\n",
        "\n",
        "def stemming(text):\n",
        "    return \" \".join([ps.stem(word) for word in text.split()])\n",
        "\n",
        "def remove_url(text):\n",
        "    return re.sub(r'https?://\\S+|www\\.\\S+', '', text)\n",
        "\n",
        "\n",
        "def clean_chars(text):\n",
        "    return ' '.join(re.sub(\"(@[A-Za-z0-9]+)|([^0-9A-Za-z \\t])|(\\w+:\\/\\/\\S+)\",\" \",text).split())\n",
        "\n",
        "def remove_emojis(data):\n",
        "    emoj = re.compile(\"[\"\n",
        "        u\"\\U0001F600-\\U0001F64F\"  # emoticons\n",
        "        u\"\\U0001F300-\\U0001F5FF\"  # symbols & pictographs\n",
        "        u\"\\U0001F680-\\U0001F6FF\"  # transport & map symbols\n",
        "        u\"\\U0001F1E0-\\U0001F1FF\"  # flags (iOS)\n",
        "        u\"\\U00002500-\\U00002BEF\"  # chinese char\n",
        "        u\"\\U00002702-\\U000027B0\"\n",
        "        u\"\\U00002702-\\U000027B0\"\n",
        "        u\"\\U000024C2-\\U0001F251\"\n",
        "        u\"\\U0001f926-\\U0001f937\"\n",
        "        u\"\\U00010000-\\U0010ffff\"\n",
        "        u\"\\u2640-\\u2642\" \n",
        "        u\"\\u2600-\\u2B55\"\n",
        "        u\"\\u200d\"\n",
        "        u\"\\u23cf\"\n",
        "        u\"\\u23e9\"\n",
        "        u\"\\u231a\"\n",
        "        u\"\\ufe0f\"  # dingbats\n",
        "        u\"\\u3030\"\n",
        "                      \"]+\", re.UNICODE)\n",
        "    return re.sub(emoj, '', data)"
      ],
      "metadata": {
        "colab": {
          "base_uri": "https://localhost:8080/"
        },
        "id": "ZVMVXNZkXK1z",
        "outputId": "56cc6e9e-f668-4bcd-f00d-3404c7055680"
      },
      "execution_count": 3,
      "outputs": [
        {
          "output_type": "stream",
          "name": "stderr",
          "text": [
            "[nltk_data] Downloading package stopwords to /root/nltk_data...\n",
            "[nltk_data]   Package stopwords is already up-to-date!\n",
            "[nltk_data] Downloading package wordnet to /root/nltk_data...\n",
            "[nltk_data]   Package wordnet is already up-to-date!\n",
            "[nltk_data] Downloading package omw-1.4 to /root/nltk_data...\n",
            "[nltk_data]   Package omw-1.4 is already up-to-date!\n"
          ]
        }
      ]
    },
    {
      "cell_type": "code",
      "source": [
        "df=lower_text(df,'content')\n",
        "df['content']=df['content'].apply(lambda x : remove_punctuations(x))\n",
        "df['content']=df['content'].apply(lambda x : remove_stopwords(x))\n",
        "FREQUENT_WORDS=find_freq_words(df,'content')\n",
        "df['content']=df['content'].apply(lambda x : remove_freq_words(x,FREQUENT_WORDS))\n",
        "df['content']=df['content'].apply(lambda x : stemming(x))\n",
        "df['content']=df['content'].apply(lambda x :  remove_url(x))\n",
        "df['content']=df['content'].apply(lambda x: clean_chars(x))"
      ],
      "metadata": {
        "id": "-SnXtcB0YpDP"
      },
      "execution_count": 4,
      "outputs": []
    },
    {
      "cell_type": "code",
      "source": [
        "df=lower_text(df,'title')\n",
        "df['title']=df['title'].apply(lambda x : remove_punctuations(x))\n",
        "df['title']=df['title'].apply(lambda x : remove_stopwords(x))\n",
        "FREQUENT_WORDS=find_freq_words(df,'title')\n",
        "df['title']=df['title'].apply(lambda x : remove_freq_words(x,FREQUENT_WORDS))\n",
        "df['title']=df['title'].apply(lambda x : stemming(x))\n",
        "df['title']=df['title'].apply(lambda x :  remove_url(x))\n",
        "df['title']=df['title'].apply(lambda x: clean_chars(x))"
      ],
      "metadata": {
        "id": "11wIvcGQkTPy"
      },
      "execution_count": 5,
      "outputs": []
    },
    {
      "cell_type": "markdown",
      "source": [
        "# Model building\n"
      ],
      "metadata": {
        "id": "s6TJNqY0h1E7"
      }
    },
    {
      "cell_type": "markdown",
      "source": [
        "Tried out a bunch of different models.As expected passive aggresive classifier performed the best for text classification\n"
      ],
      "metadata": {
        "id": "GKGTY8czh5US"
      }
    },
    {
      "cell_type": "code",
      "source": [
        "from sklearn.feature_extraction.text import TfidfVectorizer\n",
        "df['data']=df['content']+df['title']\n",
        "X = df['data']\n",
        "y = df['target_ind']\n",
        "# train test split (66% train - 33% test)\n",
        "from sklearn.model_selection import train_test_split\n",
        "X_train, X_test, y_train, y_test = train_test_split(X, y, test_size=0.33, random_state=123)"
      ],
      "metadata": {
        "id": "TvFUcdGqaOck"
      },
      "execution_count": 6,
      "outputs": []
    },
    {
      "cell_type": "code",
      "source": [
        "from sklearn.feature_extraction.text import TfidfVectorizer\n",
        "tf= TfidfVectorizer()\n",
        "X_train_cv = tf.fit_transform(X_train)\n",
        "from sklearn.linear_model import PassiveAggressiveClassifier\n",
        "PA = PassiveAggressiveClassifier(C = 0.3, random_state = 3)\n",
        "PA.fit(X_train_cv, y_train)\n",
        "X_test_cv = tf.transform(X_test)\n",
        "predictions = PA.predict(X_test_cv)"
      ],
      "metadata": {
        "id": "xXS1LUaWiH3-"
      },
      "execution_count": 25,
      "outputs": []
    },
    {
      "cell_type": "code",
      "source": [
        "from sklearn.metrics import r2_score\n",
        "r2_score(predictions,y_test)"
      ],
      "metadata": {
        "colab": {
          "base_uri": "https://localhost:8080/"
        },
        "id": "fzksG-V9iPa7",
        "outputId": "9b36cbf7-0dc5-474c-d96c-e4d3fb3dca69"
      },
      "execution_count": 18,
      "outputs": [
        {
          "output_type": "execute_result",
          "data": {
            "text/plain": [
              "0.5452515002137712"
            ]
          },
          "metadata": {},
          "execution_count": 18
        }
      ]
    },
    {
      "cell_type": "markdown",
      "source": [
        "# Testing"
      ],
      "metadata": {
        "id": "Db2hPFNoiJ6p"
      }
    },
    {
      "cell_type": "code",
      "source": [
        "df_test=pd.read_csv('/content/drive/MyDrive/PS_3/PS3_test.csv')\n",
        "df_test"
      ],
      "metadata": {
        "colab": {
          "base_uri": "https://localhost:8080/",
          "height": 424
        },
        "id": "nzXtPx_wbabp",
        "outputId": "be6bc9a0-1d9f-4816-b81b-3b015b79aa0f"
      },
      "execution_count": 19,
      "outputs": [
        {
          "output_type": "execute_result",
          "data": {
            "text/plain": [
              "                                                content  \\\n",
              "0     Socket Cap Screws are reliable and durable and...   \n",
              "1     This O-ring is made of black Buna-nitrile, is ...   \n",
              "2     This Viton O-ring is black in color, round in ...   \n",
              "3     This 5-ounce lightweight pique knit sport shir...   \n",
              "4     This O-ring is made of black Buna-nitrile, is ...   \n",
              "...                                                 ...   \n",
              "8101  Gerald Mohr, Cathy O'Donnell. To help her get ...   \n",
              "8102  The first Go-Kart Racing game to come out for ...   \n",
              "8103  For almost two decades--the '60s and the '70s-...   \n",
              "8104  Patrick Murray's Reflections on Commercial Lif...   \n",
              "8105  Once again blood flows in the streets of Kanto...   \n",
              "\n",
              "                                                  title   uid  \n",
              "0     Alloy Steel Socket Cap Screw, Flat Head, Hex S...     0  \n",
              "1     -161 Buna O-Ring, 70A Durometer, Black, 5-1/2&...     1  \n",
              "2     -445 Viton O-Ring, 75A Durometer, Black, 8&#03...     2  \n",
              "3     Amazon.com: Port Authority Silk Touch Sport Sh...     3  \n",
              "4     -359 Buna O-Ring, 70A Durometer, Black, 5-3/4&...     4  \n",
              "...                                                 ...   ...  \n",
              "8101                        Terror in the Haunted House  8101  \n",
              "8102                                   Super Mario Kart  8102  \n",
              "8103        Smokey Robinson - Standing Room Only (1990)  8103  \n",
              "8104  Reflections on Commercial Life: An Anthology o...  8104  \n",
              "8105                           Ikki Tousen Complete Set  8105  \n",
              "\n",
              "[8106 rows x 3 columns]"
            ],
            "text/html": [
              "\n",
              "  <div id=\"df-b1536615-2da5-468a-ae92-7700d166dc19\">\n",
              "    <div class=\"colab-df-container\">\n",
              "      <div>\n",
              "<style scoped>\n",
              "    .dataframe tbody tr th:only-of-type {\n",
              "        vertical-align: middle;\n",
              "    }\n",
              "\n",
              "    .dataframe tbody tr th {\n",
              "        vertical-align: top;\n",
              "    }\n",
              "\n",
              "    .dataframe thead th {\n",
              "        text-align: right;\n",
              "    }\n",
              "</style>\n",
              "<table border=\"1\" class=\"dataframe\">\n",
              "  <thead>\n",
              "    <tr style=\"text-align: right;\">\n",
              "      <th></th>\n",
              "      <th>content</th>\n",
              "      <th>title</th>\n",
              "      <th>uid</th>\n",
              "    </tr>\n",
              "  </thead>\n",
              "  <tbody>\n",
              "    <tr>\n",
              "      <th>0</th>\n",
              "      <td>Socket Cap Screws are reliable and durable and...</td>\n",
              "      <td>Alloy Steel Socket Cap Screw, Flat Head, Hex S...</td>\n",
              "      <td>0</td>\n",
              "    </tr>\n",
              "    <tr>\n",
              "      <th>1</th>\n",
              "      <td>This O-ring is made of black Buna-nitrile, is ...</td>\n",
              "      <td>-161 Buna O-Ring, 70A Durometer, Black, 5-1/2&amp;...</td>\n",
              "      <td>1</td>\n",
              "    </tr>\n",
              "    <tr>\n",
              "      <th>2</th>\n",
              "      <td>This Viton O-ring is black in color, round in ...</td>\n",
              "      <td>-445 Viton O-Ring, 75A Durometer, Black, 8&amp;#03...</td>\n",
              "      <td>2</td>\n",
              "    </tr>\n",
              "    <tr>\n",
              "      <th>3</th>\n",
              "      <td>This 5-ounce lightweight pique knit sport shir...</td>\n",
              "      <td>Amazon.com: Port Authority Silk Touch Sport Sh...</td>\n",
              "      <td>3</td>\n",
              "    </tr>\n",
              "    <tr>\n",
              "      <th>4</th>\n",
              "      <td>This O-ring is made of black Buna-nitrile, is ...</td>\n",
              "      <td>-359 Buna O-Ring, 70A Durometer, Black, 5-3/4&amp;...</td>\n",
              "      <td>4</td>\n",
              "    </tr>\n",
              "    <tr>\n",
              "      <th>...</th>\n",
              "      <td>...</td>\n",
              "      <td>...</td>\n",
              "      <td>...</td>\n",
              "    </tr>\n",
              "    <tr>\n",
              "      <th>8101</th>\n",
              "      <td>Gerald Mohr, Cathy O'Donnell. To help her get ...</td>\n",
              "      <td>Terror in the Haunted House</td>\n",
              "      <td>8101</td>\n",
              "    </tr>\n",
              "    <tr>\n",
              "      <th>8102</th>\n",
              "      <td>The first Go-Kart Racing game to come out for ...</td>\n",
              "      <td>Super Mario Kart</td>\n",
              "      <td>8102</td>\n",
              "    </tr>\n",
              "    <tr>\n",
              "      <th>8103</th>\n",
              "      <td>For almost two decades--the '60s and the '70s-...</td>\n",
              "      <td>Smokey Robinson - Standing Room Only (1990)</td>\n",
              "      <td>8103</td>\n",
              "    </tr>\n",
              "    <tr>\n",
              "      <th>8104</th>\n",
              "      <td>Patrick Murray's Reflections on Commercial Lif...</td>\n",
              "      <td>Reflections on Commercial Life: An Anthology o...</td>\n",
              "      <td>8104</td>\n",
              "    </tr>\n",
              "    <tr>\n",
              "      <th>8105</th>\n",
              "      <td>Once again blood flows in the streets of Kanto...</td>\n",
              "      <td>Ikki Tousen Complete Set</td>\n",
              "      <td>8105</td>\n",
              "    </tr>\n",
              "  </tbody>\n",
              "</table>\n",
              "<p>8106 rows × 3 columns</p>\n",
              "</div>\n",
              "      <button class=\"colab-df-convert\" onclick=\"convertToInteractive('df-b1536615-2da5-468a-ae92-7700d166dc19')\"\n",
              "              title=\"Convert this dataframe to an interactive table.\"\n",
              "              style=\"display:none;\">\n",
              "        \n",
              "  <svg xmlns=\"http://www.w3.org/2000/svg\" height=\"24px\"viewBox=\"0 0 24 24\"\n",
              "       width=\"24px\">\n",
              "    <path d=\"M0 0h24v24H0V0z\" fill=\"none\"/>\n",
              "    <path d=\"M18.56 5.44l.94 2.06.94-2.06 2.06-.94-2.06-.94-.94-2.06-.94 2.06-2.06.94zm-11 1L8.5 8.5l.94-2.06 2.06-.94-2.06-.94L8.5 2.5l-.94 2.06-2.06.94zm10 10l.94 2.06.94-2.06 2.06-.94-2.06-.94-.94-2.06-.94 2.06-2.06.94z\"/><path d=\"M17.41 7.96l-1.37-1.37c-.4-.4-.92-.59-1.43-.59-.52 0-1.04.2-1.43.59L10.3 9.45l-7.72 7.72c-.78.78-.78 2.05 0 2.83L4 21.41c.39.39.9.59 1.41.59.51 0 1.02-.2 1.41-.59l7.78-7.78 2.81-2.81c.8-.78.8-2.07 0-2.86zM5.41 20L4 18.59l7.72-7.72 1.47 1.35L5.41 20z\"/>\n",
              "  </svg>\n",
              "      </button>\n",
              "      \n",
              "  <style>\n",
              "    .colab-df-container {\n",
              "      display:flex;\n",
              "      flex-wrap:wrap;\n",
              "      gap: 12px;\n",
              "    }\n",
              "\n",
              "    .colab-df-convert {\n",
              "      background-color: #E8F0FE;\n",
              "      border: none;\n",
              "      border-radius: 50%;\n",
              "      cursor: pointer;\n",
              "      display: none;\n",
              "      fill: #1967D2;\n",
              "      height: 32px;\n",
              "      padding: 0 0 0 0;\n",
              "      width: 32px;\n",
              "    }\n",
              "\n",
              "    .colab-df-convert:hover {\n",
              "      background-color: #E2EBFA;\n",
              "      box-shadow: 0px 1px 2px rgba(60, 64, 67, 0.3), 0px 1px 3px 1px rgba(60, 64, 67, 0.15);\n",
              "      fill: #174EA6;\n",
              "    }\n",
              "\n",
              "    [theme=dark] .colab-df-convert {\n",
              "      background-color: #3B4455;\n",
              "      fill: #D2E3FC;\n",
              "    }\n",
              "\n",
              "    [theme=dark] .colab-df-convert:hover {\n",
              "      background-color: #434B5C;\n",
              "      box-shadow: 0px 1px 3px 1px rgba(0, 0, 0, 0.15);\n",
              "      filter: drop-shadow(0px 1px 2px rgba(0, 0, 0, 0.3));\n",
              "      fill: #FFFFFF;\n",
              "    }\n",
              "  </style>\n",
              "\n",
              "      <script>\n",
              "        const buttonEl =\n",
              "          document.querySelector('#df-b1536615-2da5-468a-ae92-7700d166dc19 button.colab-df-convert');\n",
              "        buttonEl.style.display =\n",
              "          google.colab.kernel.accessAllowed ? 'block' : 'none';\n",
              "\n",
              "        async function convertToInteractive(key) {\n",
              "          const element = document.querySelector('#df-b1536615-2da5-468a-ae92-7700d166dc19');\n",
              "          const dataTable =\n",
              "            await google.colab.kernel.invokeFunction('convertToInteractive',\n",
              "                                                     [key], {});\n",
              "          if (!dataTable) return;\n",
              "\n",
              "          const docLinkHtml = 'Like what you see? Visit the ' +\n",
              "            '<a target=\"_blank\" href=https://colab.research.google.com/notebooks/data_table.ipynb>data table notebook</a>'\n",
              "            + ' to learn more about interactive tables.';\n",
              "          element.innerHTML = '';\n",
              "          dataTable['output_type'] = 'display_data';\n",
              "          await google.colab.output.renderOutput(dataTable, element);\n",
              "          const docLink = document.createElement('div');\n",
              "          docLink.innerHTML = docLinkHtml;\n",
              "          element.appendChild(docLink);\n",
              "        }\n",
              "      </script>\n",
              "    </div>\n",
              "  </div>\n",
              "  "
            ]
          },
          "metadata": {},
          "execution_count": 19
        }
      ]
    },
    {
      "cell_type": "code",
      "source": [
        "df=df_test\n",
        "df=lower_text(df,'content')\n",
        "df['content']=df['content'].apply(lambda x : remove_punctuations(x))\n",
        "df['content']=df['content'].apply(lambda x : remove_stopwords(x))\n",
        "FREQUENT_WORDS=find_freq_words(df,'content')\n",
        "df['content']=df['content'].apply(lambda x : remove_freq_words(x,FREQUENT_WORDS))\n",
        "df['content']=df['content'].apply(lambda x : stemming(x))\n",
        "df['content']=df['content'].apply(lambda x :  remove_url(x))\n",
        "df['content']=df['content'].apply(lambda x: clean_chars(x))\n",
        "\n",
        "df=lower_text(df,'title')\n",
        "df['title']=df['title'].apply(lambda x : remove_punctuations(x))\n",
        "df['title']=df['title'].apply(lambda x : remove_stopwords(x))\n",
        "FREQUENT_WORDS=find_freq_words(df,'title')\n",
        "df['title']=df['title'].apply(lambda x : remove_freq_words(x,FREQUENT_WORDS))\n",
        "df['title']=df['title'].apply(lambda x : stemming(x))\n",
        "df['title']=df['title'].apply(lambda x :  remove_url(x))\n",
        "df['title']=df['title'].apply(lambda x: clean_chars(x))\n",
        "\n",
        "df['data']=df['content']+df['title']\n",
        "X = df['data']\n",
        "tf= TfidfVectorizer()\n",
        "X_cv= tf.fit_transform(X)"
      ],
      "metadata": {
        "id": "TTFaaVNubzdf"
      },
      "execution_count": 20,
      "outputs": []
    },
    {
      "cell_type": "code",
      "source": [
        "X_test = tf.transform(X)"
      ],
      "metadata": {
        "id": "PsgX5M1PdJtV"
      },
      "execution_count": 26,
      "outputs": []
    },
    {
      "cell_type": "code",
      "source": [
        "predictions = PA.predict(X_test)"
      ],
      "metadata": {
        "id": "HEPvi1KRcbLm"
      },
      "execution_count": 28,
      "outputs": []
    },
    {
      "cell_type": "code",
      "source": [
        "predictions"
      ],
      "metadata": {
        "colab": {
          "base_uri": "https://localhost:8080/"
        },
        "id": "XckX6DD5d7Bq",
        "outputId": "fd49f795-f05d-4e8c-b3a3-5ca05757cf1a"
      },
      "execution_count": 29,
      "outputs": [
        {
          "output_type": "execute_result",
          "data": {
            "text/plain": [
              "array([361, 351, 349, ..., 431,   9, 453])"
            ]
          },
          "metadata": {},
          "execution_count": 29
        }
      ]
    },
    {
      "cell_type": "code",
      "source": [
        "df['target_ind']=pd.DataFrame(predictions)"
      ],
      "metadata": {
        "id": "F8508EnOeUTu"
      },
      "execution_count": null,
      "outputs": []
    },
    {
      "cell_type": "code",
      "source": [
        "df=df[['uid','target_ind']]\n",
        "df.to_csv('submission.csv',index=False)"
      ],
      "metadata": {
        "id": "8BfSROKnelda"
      },
      "execution_count": 32,
      "outputs": []
    }
  ]
}